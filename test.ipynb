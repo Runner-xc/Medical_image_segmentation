{
 "cells": [
  {
   "cell_type": "code",
   "execution_count": 9,
   "metadata": {},
   "outputs": [
    {
     "name": "stdout",
     "output_type": "stream",
     "text": [
      "Sequential - Input type: torch.float32, Output type: torch.float32\n",
      "Sequential - Input type: torch.float32, Output type: torch.float32\n",
      "Dropout2d - Input type: torch.float32, Output type: torch.float32\n",
      "Sequential - Input type: torch.float32, Output type: torch.float32\n",
      "Dropout2d - Input type: torch.float32, Output type: torch.float32\n",
      "Sequential - Input type: torch.float32, Output type: torch.float32\n",
      "Dropout2d - Input type: torch.float32, Output type: torch.float32\n",
      "Sequential - Input type: torch.float32, Output type: torch.float32\n",
      "Dropout2d - Input type: torch.float32, Output type: torch.float32\n",
      "PSPModule - Input type: torch.float32, Output type: torch.float32\n",
      "Sequential - Input type: torch.float32, Output type: torch.float32\n",
      "Sequential - Input type: torch.float32, Output type: torch.float32\n"
     ]
    }
   ],
   "source": [
    "import torch\n",
    "import torch.nn as nn\n",
    "from model.pspnet import PSPNet\n",
    "import cv2\n",
    "import numpy as np\n",
    "\n",
    "def check_data_types(model, input_tensor):\n",
    "    def forward_hook(module, input, output):\n",
    "        if len(input) > 0:\n",
    "            input_type = input[0].dtype\n",
    "        else:\n",
    "            input_type = None\n",
    "        output_type = output.dtype\n",
    "        print(f\"{module.__class__.__name__} - Input type: {input_type}, Output type: {output_type}\")\n",
    "    \n",
    "    handles = []\n",
    "    for layer in model.children():\n",
    "        handle = layer.register_forward_hook(forward_hook)\n",
    "        handles.append(handle)\n",
    "    \n",
    "    model(input_tensor)\n",
    "    \n",
    "    for handle in handles:\n",
    "        handle.remove()\n",
    "\n",
    "model = PSPNet(num_classes=4, dropout_p=0.5, use_aux=True)\n",
    "input_a = cv2.imread(\"/mnt/e/VScode/WS-Hub/WS-U2net/U-2-Net/SEM_DATA/chged_images_256_a50_c80/Image1 - 001_0_0.jpg\")\n",
    "input_b = cv2.imread(\"/mnt/e/VScode/WS-Hub/WS-U2net/U-2-Net/SEM_DATA/chged_images_256_a50_c80/Image1 - 001_0_4.jpg\")\n",
    "input_n = np.stack((input_a, input_b), axis=0)\n",
    "input_tensor = torch.tensor(input_n)\n",
    "input_tensor = input_tensor.permute(0, 3, 1, 2).float()\n",
    "\n",
    "check_data_types(model, input_tensor)"
   ]
  }
 ],
 "metadata": {
  "kernelspec": {
   "display_name": "torch",
   "language": "python",
   "name": "python3"
  },
  "language_info": {
   "codemirror_mode": {
    "name": "ipython",
    "version": 3
   },
   "file_extension": ".py",
   "mimetype": "text/x-python",
   "name": "python",
   "nbconvert_exporter": "python",
   "pygments_lexer": "ipython3",
   "version": "3.11.9"
  }
 },
 "nbformat": 4,
 "nbformat_minor": 2
}
